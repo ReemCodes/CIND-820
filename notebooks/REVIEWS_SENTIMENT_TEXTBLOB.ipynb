{
  "nbformat": 4,
  "nbformat_minor": 0,
  "metadata": {
    "colab": {
      "provenance": []
    },
    "kernelspec": {
      "name": "python3",
      "display_name": "Python 3"
    },
    "language_info": {
      "name": "python"
    }
  },
  "cells": [
    {
      "cell_type": "code",
      "execution_count": null,
      "metadata": {
        "id": "KrVa2rCk2fZO"
      },
      "outputs": [],
      "source": [
        "import pandas as pd\n",
        "import numpy as np\n",
        "import matplotlib.pyplot as plt\n",
        "from textblob import TextBlob\n",
        "from sklearn.feature_extraction.text import CountVectorizer, TfidfVectorizer\n",
        "from sklearn.model_selection import train_test_split\n",
        "from sklearn.linear_model import LogisticRegression\n",
        "from sklearn.metrics import confusion_matrix, classification_report\n",
        "import nltk\n",
        "nltk.download('stopwords')\n",
        "nltk.download('punkt')\n",
        "\n",
        "reviews= reviews = pd.read_csv(\"http://data.insideairbnb.com/canada/on/toronto/2024-01-08/data/reviews.csv.gz\")"
      ]
    },
    {
      "cell_type": "markdown",
      "source": [
        "# RQ1: Linguistic Patterns and Keywords in Guest Reviews"
      ],
      "metadata": {
        "id": "jPRyXxgz6of4"
      }
    },
    {
      "cell_type": "code",
      "source": [
        "from nltk.tokenize import word_tokenize\n",
        "import string\n",
        "\n",
        "# Function to clean text data\n",
        "def clean_text(text):\n",
        "  #convert text to lowercase\n",
        "  text=text.lower()\n",
        "  text=text.translate(str.maketrans('', '', string.punctuation))\n",
        "  stop_words=set(stopwords.words('english'))\n",
        "  words=word_tokenize(text)\n",
        "  filtered_text=' '.join([word for word in words if word not in stop_words])\n",
        "  return filtered_text\n",
        "\n",
        "# Clean the comments column\n",
        "reviews['cleaned_comments'] = reviews['comments'].astype(str).apply(clean_text)"
      ],
      "metadata": {
        "id": "fEB0Trsp6wxq"
      },
      "execution_count": null,
      "outputs": []
    },
    {
      "cell_type": "code",
      "source": [
        "# Perform sentiment analysis\n",
        "\n",
        "reviews['polarity'] = reviews['cleaned_comments'].apply(lambda x: TextBlob(x).sentiment.polarity)\n",
        "reviews['sentiment'] = reviews['polarity'].apply(lambda x: 'positive' if x>0 else 'negative')"
      ],
      "metadata": {
        "id": "0sLMQqa17lek"
      },
      "execution_count": null,
      "outputs": []
    },
    {
      "cell_type": "code",
      "source": [
        "# visualizing sentiment distribution\n",
        "\n",
        "import seaborn as sns\n",
        "\n",
        "# Plotting the distribution of sentiments\n",
        "sns.countplot(x='sentiment', data=reviews, palette='coolwarm')\n",
        "plt.title('Distribution of Review Sentiments')\n",
        "plt.xlabel('Sentiment')\n",
        "plt.ylabel('Number of Reviews')\n",
        "plt.show()"
      ],
      "metadata": {
        "colab": {
          "base_uri": "https://localhost:8080/",
          "height": 579
        },
        "id": "gzVzr--r-yI6",
        "outputId": "3c14de05-792d-40d4-87be-c0c86ff82e0d"
      },
      "execution_count": null,
      "outputs": [
        {
          "output_type": "stream",
          "name": "stderr",
          "text": [
            "<ipython-input-11-2587fc9570a4>:6: FutureWarning: \n",
            "\n",
            "Passing `palette` without assigning `hue` is deprecated and will be removed in v0.14.0. Assign the `x` variable to `hue` and set `legend=False` for the same effect.\n",
            "\n",
            "  sns.countplot(x='sentiment', data=reviews, palette='coolwarm')\n"
          ]
        },
        {
          "output_type": "display_data",
          "data": {
            "text/plain": [
              "<Figure size 640x480 with 1 Axes>"
            ],
            "image/png": "[encoded data removed]"
          },
          "metadata": {}
        }
      ]
    },
    {
      "cell_type": "code",
      "source": [
        "def get_top_words(text_series, n=20):\n",
        "    cv = CountVectorizer(stop_words='english')  # Initialize the CountVectorizer\n",
        "    X = cv.fit_transform(text_series)  # Fit and transform the text data to a word frequency array\n",
        "    sum_words = X.sum(axis=0)  # Sum word occurrences\n",
        "    words_freq = [(word, sum_words[0, idx]) for word, idx in cv.vocabulary_.items()]  # Pair words with their frequencies\n",
        "    words_freq = sorted(words_freq, key=lambda x: x[1], reverse=True)  # Sort words by frequency\n",
        "    return words_freq[:n]  # Return top n words\n",
        "\n",
        "positive_reviews = reviews[reviews['sentiment'] == 'positive']['cleaned_comments']\n",
        "negative_reviews = reviews[reviews['sentiment'] == 'negative']['cleaned_comments']\n",
        "top_positive_words = get_top_words(positive_reviews)\n",
        "top_negative_words = get_top_words(negative_reviews)"
      ],
      "metadata": {
        "id": "4qkEJRXH-VaQ"
      },
      "execution_count": null,
      "outputs": []
    },
    {
      "cell_type": "code",
      "source": [
        "reviews.head()"
      ],
      "metadata": {
        "colab": {
          "base_uri": "https://localhost:8080/",
          "height": 608
        },
        "id": "FnVrC54F-dij",
        "outputId": "7f7b64a3-43cf-49b7-8290-50d0e76f5397"
      },
      "execution_count": null,
      "outputs": [
        {
          "output_type": "execute_result",
          "data": {
            "text/plain": [
              "   listing_id         id        date  reviewer_id reviewer_name  \\\n",
              "0        1419   38924112  2015-07-19     11308465       Marcela   \n",
              "1        1419   44791978  2015-08-29      9580285         Marco   \n",
              "2        1419   45957133  2015-09-07     38394721        Andrea   \n",
              "3        1419   67295154  2016-03-28      3515044         Shaun   \n",
              "4        1419  177702208  2017-08-03     13987100          Kate   \n",
              "\n",
              "                                            comments  \\\n",
              "0  Having the opportunity of arriving to Alexandr...   \n",
              "1  We have no enough words to describe how beauty...   \n",
              "2  The listing was exceptional and an even better...   \n",
              "3  Alexandra's home was amazing and in such a nea...   \n",
              "4  Beautiful home. Very comfortable and clean. Pe...   \n",
              "\n",
              "                                    cleaned_comments  polarity sentiment  \n",
              "0  opportunity arriving alexandras house describe...  0.486905  positive  \n",
              "1  enough words describe beautyful cozy alexandra...  0.166667  positive  \n",
              "2  listing exceptional even better experience per...  0.598485  positive  \n",
              "3  alexandras home amazing neat neighbourhood eve...  0.371429  positive  \n",
              "4  beautiful home comfortable clean perfect famil...  0.486296  positive  "
            ],
            "text/html": [
              "\n",
              "  <div id=\"df-25c41b32-6791-4c20-8240-a5bf1e5925de\" class=\"colab-df-container\">\n",
              "    <div>\n",
              "<style scoped>\n",
              "    .dataframe tbody tr th:only-of-type {\n",
              "        vertical-align: middle;\n",
              "    }\n",
              "\n",
              "    .dataframe tbody tr th {\n",
              "        vertical-align: top;\n",
              "    }\n",
              "\n",
              "    .dataframe thead th {\n",
              "        text-align: right;\n",
              "    }\n",
              "</style>\n",
              "<table border=\"1\" class=\"dataframe\">\n",
              "  <thead>\n",
              "    <tr style=\"text-align: right;\">\n",
              "      <th></th>\n",
              "      <th>listing_id</th>\n",
              "      <th>id</th>\n",
              "      <th>date</th>\n",
              "      <th>reviewer_id</th>\n",
              "      <th>reviewer_name</th>\n",
              "      <th>comments</th>\n",
              "      <th>cleaned_comments</th>\n",
              "      <th>polarity</th>\n",
              "      <th>sentiment</th>\n",
              "    </tr>\n",
              "  </thead>\n",
              "  <tbody>\n",
              "    <tr>\n",
              "      <th>0</th>\n",
              "      <td>1419</td>\n",
              "      <td>38924112</td>\n",
              "      <td>2015-07-19</td>\n",
              "      <td>11308465</td>\n",
              "      <td>Marcela</td>\n",
              "      <td>Having the opportunity of arriving to Alexandr...</td>\n",
              "      <td>opportunity arriving alexandras house describe...</td>\n",
              "      <td>0.486905</td>\n",
              "      <td>positive</td>\n",
              "    </tr>\n",
              "    <tr>\n",
              "      <th>1</th>\n",
              "      <td>1419</td>\n",
              "      <td>44791978</td>\n",
              "      <td>2015-08-29</td>\n",
              "      <td>9580285</td>\n",
              "      <td>Marco</td>\n",
              "      <td>We have no enough words to describe how beauty...</td>\n",
              "      <td>enough words describe beautyful cozy alexandra...</td>\n",
              "      <td>0.166667</td>\n",
              "      <td>positive</td>\n",
              "    </tr>\n",
              "    <tr>\n",
              "      <th>2</th>\n",
              "      <td>1419</td>\n",
              "      <td>45957133</td>\n",
              "      <td>2015-09-07</td>\n",
              "      <td>38394721</td>\n",
              "      <td>Andrea</td>\n",
              "      <td>The listing was exceptional and an even better...</td>\n",
              "      <td>listing exceptional even better experience per...</td>\n",
              "      <td>0.598485</td>\n",
              "      <td>positive</td>\n",
              "    </tr>\n",
              "    <tr>\n",
              "      <th>3</th>\n",
              "      <td>1419</td>\n",
              "      <td>67295154</td>\n",
              "      <td>2016-03-28</td>\n",
              "      <td>3515044</td>\n",
              "      <td>Shaun</td>\n",
              "      <td>Alexandra's home was amazing and in such a nea...</td>\n",
              "      <td>alexandras home amazing neat neighbourhood eve...</td>\n",
              "      <td>0.371429</td>\n",
              "      <td>positive</td>\n",
              "    </tr>\n",
              "    <tr>\n",
              "      <th>4</th>\n",
              "      <td>1419</td>\n",
              "      <td>177702208</td>\n",
              "      <td>2017-08-03</td>\n",
              "      <td>13987100</td>\n",
              "      <td>Kate</td>\n",
              "      <td>Beautiful home. Very comfortable and clean. Pe...</td>\n",
              "      <td>beautiful home comfortable clean perfect famil...</td>\n",
              "      <td>0.486296</td>\n",
              "      <td>positive</td>\n",
              "    </tr>\n",
              "  </tbody>\n",
              "</table>\n",
              "</div>\n",
              "    <div class=\"colab-df-buttons\">\n",
              "\n",
              "  <div class=\"colab-df-container\">\n",
              "    <button class=\"colab-df-convert\" onclick=\"convertToInteractive('df-25c41b32-6791-4c20-8240-a5bf1e5925de')\"\n",
              "            title=\"Convert this dataframe to an interactive table.\"\n",
              "            style=\"display:none;\">\n",
              "\n",
              "  <svg xmlns=\"http://www.w3.org/2000/svg\" height=\"24px\" viewBox=\"0 -960 960 960\">\n",
              "    <path d=\"M120-120v-720h720v720H120Zm60-500h600v-160H180v160Zm220 220h160v-160H400v160Zm0 220h160v-160H400v160ZM180-400h160v-160H180v160Zm440 0h160v-160H620v160ZM180-180h160v-160H180v160Zm440 0h160v-160H620v160Z\"/>\n",
              "  </svg>\n",
              "    </button>\n",
              "\n",
              "  <style>\n",
              "    .colab-df-container {\n",
              "      display:flex;\n",
              "      gap: 12px;\n",
              "    }\n",
              "\n",
              "    .colab-df-convert {\n",
              "      background-color: #E8F0FE;\n",
              "      border: none;\n",
              "      border-radius: 50%;\n",
              "      cursor: pointer;\n",
              "      display: none;\n",
              "      fill: #1967D2;\n",
              "      height: 32px;\n",
              "      padding: 0 0 0 0;\n",
              "      width: 32px;\n",
              "    }\n",
              "\n",
              "    .colab-df-convert:hover {\n",
              "      background-color: #E2EBFA;\n",
              "      box-shadow: 0px 1px 2px rgba(60, 64, 67, 0.3), 0px 1px 3px 1px rgba(60, 64, 67, 0.15);\n",
              "      fill: #174EA6;\n",
              "    }\n",
              "\n",
              "    .colab-df-buttons div {\n",
              "      margin-bottom: 4px;\n",
              "    }\n",
              "\n",
              "    [theme=dark] .colab-df-convert {\n",
              "      background-color: #3B4455;\n",
              "      fill: #D2E3FC;\n",
              "    }\n",
              "\n",
              "    [theme=dark] .colab-df-convert:hover {\n",
              "      background-color: #434B5C;\n",
              "      box-shadow: 0px 1px 3px 1px rgba(0, 0, 0, 0.15);\n",
              "      filter: drop-shadow(0px 1px 2px rgba(0, 0, 0, 0.3));\n",
              "      fill: #FFFFFF;\n",
              "    }\n",
              "  </style>\n",
              "\n",
              "    <script>\n",
              "      const buttonEl =\n",
              "        document.querySelector('#df-25c41b32-6791-4c20-8240-a5bf1e5925de button.colab-df-convert');\n",
              "      buttonEl.style.display =\n",
              "        google.colab.kernel.accessAllowed ? 'block' : 'none';\n",
              "\n",
              "      async function convertToInteractive(key) {\n",
              "        const element = document.querySelector('#df-25c41b32-6791-4c20-8240-a5bf1e5925de');\n",
              "        const dataTable =\n",
              "          await google.colab.kernel.invokeFunction('convertToInteractive',\n",
              "                                                    [key], {});\n",
              "        if (!dataTable) return;\n",
              "\n",
              "        const docLinkHtml = 'Like what you see? Visit the ' +\n",
              "          '<a target=\"_blank\" href=https://colab.research.google.com/notebooks/data_table.ipynb>data table notebook</a>'\n",
              "          + ' to learn more about interactive tables.';\n",
              "        element.innerHTML = '';\n",
              "        dataTable['output_type'] = 'display_data';\n",
              "        await google.colab.output.renderOutput(dataTable, element);\n",
              "        const docLink = document.createElement('div');\n",
              "        docLink.innerHTML = docLinkHtml;\n",
              "        element.appendChild(docLink);\n",
              "      }\n",
              "    </script>\n",
              "  </div>\n",
              "\n",
              "\n",
              "<div id=\"df-9289c57d-98a4-4da1-94ae-b2087af914ce\">\n",
              "  <button class=\"colab-df-quickchart\" onclick=\"quickchart('df-9289c57d-98a4-4da1-94ae-b2087af914ce')\"\n",
              "            title=\"Suggest charts\"\n",
              "            style=\"display:none;\">\n",
              "\n",
              "<svg xmlns=\"http://www.w3.org/2000/svg\" height=\"24px\"viewBox=\"0 0 24 24\"\n",
              "     width=\"24px\">\n",
              "    <g>\n",
              "        <path d=\"M19 3H5c-1.1 0-2 .9-2 2v14c0 1.1.9 2 2 2h14c1.1 0 2-.9 2-2V5c0-1.1-.9-2-2-2zM9 17H7v-7h2v7zm4 0h-2V7h2v10zm4 0h-2v-4h2v4z\"/>\n",
              "    </g>\n",
              "</svg>\n",
              "  </button>\n",
              "\n",
              "<style>\n",
              "  .colab-df-quickchart {\n",
              "      --bg-color: #E8F0FE;\n",
              "      --fill-color: #1967D2;\n",
              "      --hover-bg-color: #E2EBFA;\n",
              "      --hover-fill-color: #174EA6;\n",
              "      --disabled-fill-color: #AAA;\n",
              "      --disabled-bg-color: #DDD;\n",
              "  }\n",
              "\n",
              "  [theme=dark] .colab-df-quickchart {\n",
              "      --bg-color: #3B4455;\n",
              "      --fill-color: #D2E3FC;\n",
              "      --hover-bg-color: #434B5C;\n",
              "      --hover-fill-color: #FFFFFF;\n",
              "      --disabled-bg-color: #3B4455;\n",
              "      --disabled-fill-color: #666;\n",
              "  }\n",
              "\n",
              "  .colab-df-quickchart {\n",
              "    background-color: var(--bg-color);\n",
              "    border: none;\n",
              "    border-radius: 50%;\n",
              "    cursor: pointer;\n",
              "    display: none;\n",
              "    fill: var(--fill-color);\n",
              "    height: 32px;\n",
              "    padding: 0;\n",
              "    width: 32px;\n",
              "  }\n",
              "\n",
              "  .colab-df-quickchart:hover {\n",
              "    background-color: var(--hover-bg-color);\n",
              "    box-shadow: 0 1px 2px rgba(60, 64, 67, 0.3), 0 1px 3px 1px rgba(60, 64, 67, 0.15);\n",
              "    fill: var(--button-hover-fill-color);\n",
              "  }\n",
              "\n",
              "  .colab-df-quickchart-complete:disabled,\n",
              "  .colab-df-quickchart-complete:disabled:hover {\n",
              "    background-color: var(--disabled-bg-color);\n",
              "    fill: var(--disabled-fill-color);\n",
              "    box-shadow: none;\n",
              "  }\n",
              "\n",
              "  .colab-df-spinner {\n",
              "    border: 2px solid var(--fill-color);\n",
              "    border-color: transparent;\n",
              "    border-bottom-color: var(--fill-color);\n",
              "    animation:\n",
              "      spin 1s steps(1) infinite;\n",
              "  }\n",
              "\n",
              "  @keyframes spin {\n",
              "    0% {\n",
              "      border-color: transparent;\n",
              "      border-bottom-color: var(--fill-color);\n",
              "      border-left-color: var(--fill-color);\n",
              "    }\n",
              "    20% {\n",
              "      border-color: transparent;\n",
              "      border-left-color: var(--fill-color);\n",
              "      border-top-color: var(--fill-color);\n",
              "    }\n",
              "    30% {\n",
              "      border-color: transparent;\n",
              "      border-left-color: var(--fill-color);\n",
              "      border-top-color: var(--fill-color);\n",
              "      border-right-color: var(--fill-color);\n",
              "    }\n",
              "    40% {\n",
              "      border-color: transparent;\n",
              "      border-right-color: var(--fill-color);\n",
              "      border-top-color: var(--fill-color);\n",
              "    }\n",
              "    60% {\n",
              "      border-color: transparent;\n",
              "      border-right-color: var(--fill-color);\n",
              "    }\n",
              "    80% {\n",
              "      border-color: transparent;\n",
              "      border-right-color: var(--fill-color);\n",
              "      border-bottom-color: var(--fill-color);\n",
              "    }\n",
              "    90% {\n",
              "      border-color: transparent;\n",
              "      border-bottom-color: var(--fill-color);\n",
              "    }\n",
              "  }\n",
              "</style>\n",
              "\n",
              "  <script>\n",
              "    async function quickchart(key) {\n",
              "      const quickchartButtonEl =\n",
              "        document.querySelector('#' + key + ' button');\n",
              "      quickchartButtonEl.disabled = true;  // To prevent multiple clicks.\n",
              "      quickchartButtonEl.classList.add('colab-df-spinner');\n",
              "      try {\n",
              "        const charts = await google.colab.kernel.invokeFunction(\n",
              "            'suggestCharts', [key], {});\n",
              "      } catch (error) {\n",
              "        console.error('Error during call to suggestCharts:', error);\n",
              "      }\n",
              "      quickchartButtonEl.classList.remove('colab-df-spinner');\n",
              "      quickchartButtonEl.classList.add('colab-df-quickchart-complete');\n",
              "    }\n",
              "    (() => {\n",
              "      let quickchartButtonEl =\n",
              "        document.querySelector('#df-9289c57d-98a4-4da1-94ae-b2087af914ce button');\n",
              "      quickchartButtonEl.style.display =\n",
              "        google.colab.kernel.accessAllowed ? 'block' : 'none';\n",
              "    })();\n",
              "  </script>\n",
              "</div>\n",
              "    </div>\n",
              "  </div>\n"
            ],
            "application/vnd.google.colaboratory.intrinsic+json": {
              "type": "dataframe",
              "variable_name": "reviews"
            }
          },
          "metadata": {},
          "execution_count": 10
        }
      ]
    },
    {
      "cell_type": "code",
      "source": [
        "# visualizing top words in positive and negative reviews\n",
        "\n",
        "# Function to plot top words\n",
        "def plot_top_words(top_words, title):\n",
        "    words = [word[0] for word in top_words]\n",
        "    counts = [word[1] for word in top_words]\n",
        "    sns.barplot(x=counts, y=words, palette='viridis')\n",
        "    plt.title(title)\n",
        "    plt.xlabel('Frequency')\n",
        "    plt.ylabel('Words')\n",
        "    plt.show()\n",
        "\n",
        "# Plotting top words for positive and negative sentiments\n",
        "plot_top_words(top_positive_words, 'Top Words in Positive Reviews')\n",
        "plot_top_words(top_negative_words, 'Top Words in Negative Reviews')\n"
      ],
      "metadata": {
        "colab": {
          "base_uri": "https://localhost:8080/",
          "height": 1000
        },
        "id": "1Wy6RRmq_Jwj",
        "outputId": "43044dc8-1be7-4100-bec4-484aa819171f"
      },
      "execution_count": null,
      "outputs": [
        {
          "output_type": "stream",
          "name": "stderr",
          "text": [
            "<ipython-input-12-1f283fa06d4a>:7: FutureWarning: \n",
            "\n",
            "Passing `palette` without assigning `hue` is deprecated and will be removed in v0.14.0. Assign the `y` variable to `hue` and set `legend=False` for the same effect.\n",
            "\n",
            "  sns.barplot(x=counts, y=words, palette='viridis')\n"
          ]
        },
        {
          "output_type": "display_data",
          "data": {
            "text/plain": [
              "<Figure size 640x480 with 1 Axes>"
            ],
            "image/png": "[encoded data removed]"
          },
          "metadata": {}
        },
        {
          "output_type": "stream",
          "name": "stderr",
          "text": [
            "<ipython-input-12-1f283fa06d4a>:7: FutureWarning: \n",
            "\n",
            "Passing `palette` without assigning `hue` is deprecated and will be removed in v0.14.0. Assign the `y` variable to `hue` and set `legend=False` for the same effect.\n",
            "\n",
            "  sns.barplot(x=counts, y=words, palette='viridis')\n"
          ]
        },
        {
          "output_type": "display_data",
          "data": {
            "text/plain": [
              "<Figure size 640x480 with 1 Axes>"
            ],
            "image/png": "[encoded data removed]"
          },
          "metadata": {}
        }
      ]
    },
    {
      "cell_type": "markdown",
      "source": [
        "Since there are reviews in different languages, the results of the sentiment analysisa dn topic modeling are affected. lets find the language of each review"
      ],
      "metadata": {
        "id": "NgLsePfyKVVL"
      }
    },
    {
      "cell_type": "code",
      "source": [
        "!pip install langdetect\n",
        "from langdetect import detect\n",
        "\n",
        "#Function to detect language\n",
        "def detect_language(text):\n",
        "  try:\n",
        "    return detect(text)\n",
        "  except:\n",
        "    return 'unknown'\n",
        "\n",
        "reviews['language'] = reviews['comments'].apply(detect_language)"
      ],
      "metadata": {
        "colab": {
          "base_uri": "https://localhost:8080/"
        },
        "id": "l3jQc_5YKjb0",
        "outputId": "519f5f19-e723-4998-e415-7cda7b2fc1ee"
      },
      "execution_count": null,
      "outputs": [
        {
          "output_type": "stream",
          "name": "stdout",
          "text": [
            "Requirement already satisfied: langdetect in /usr/local/lib/python3.10/dist-packages (1.0.9)\n",
            "Requirement already satisfied: six in /usr/local/lib/python3.10/dist-packages (from langdetect) (1.16.0)\n"
          ]
        }
      ]
    },
    {
      "cell_type": "code",
      "source": [
        "#Filter for English reviews\n",
        "english_reviews = reviews[reviews['language'] == 'en']"
      ],
      "metadata": {
        "id": "MkWGwfBaXycZ"
      },
      "execution_count": null,
      "outputs": []
    },
    {
      "cell_type": "markdown",
      "source": [
        "Now lets add a function to classify sentiment"
      ],
      "metadata": {
        "id": "zLPLQxEdaTbM"
      }
    },
    {
      "cell_type": "code",
      "source": [
        "def classify_sentiment(polarity_score, threshold=0.5):\n",
        "  if polarity_score > threshold:\n",
        "    return 'positive'\n",
        "  elif polarity_score < -threshold:\n",
        "    return 'negative'\n",
        "  else:\n",
        "    return 'neutral'"
      ],
      "metadata": {
        "id": "FWURo-jZaTED"
      },
      "execution_count": null,
      "outputs": []
    },
    {
      "cell_type": "code",
      "source": [
        "from textblob import TextBlob\n",
        "\n",
        "# Ensure english reviews is a seperate copy to avoid SettingWithCopyWarning\n",
        "english_reviews = english_reviews.copy()\n",
        "\n",
        "# Re-apply sentiment analysis for English reviews\n",
        "english_reviews['polarity'] = english_reviews['cleaned_comments'].apply(lambda x: TextBlob(x).sentiment.polarity)\n",
        "english_reviews['sentiment'] = english_reviews['polarity'].apply(classify_sentiment)"
      ],
      "metadata": {
        "id": "-66h2BUPbDRL"
      },
      "execution_count": null,
      "outputs": []
    },
    {
      "cell_type": "code",
      "source": [
        "# Display the first few rows to check the results\n",
        "english_reviews[['cleaned_comments', 'polarity', 'sentiment']].head()"
      ],
      "metadata": {
        "colab": {
          "base_uri": "https://localhost:8080/",
          "height": 206
        },
        "id": "axCkd6KHdZNV",
        "outputId": "1da0a476-24db-471c-f8d9-6086ed3d4707"
      },
      "execution_count": null,
      "outputs": [
        {
          "output_type": "execute_result",
          "data": {
            "text/plain": [
              "                                    cleaned_comments  polarity sentiment\n",
              "0  opportunity arriving alexandras house describe...  0.486905   neutral\n",
              "1  enough words describe beautyful cozy alexandra...  0.166667   neutral\n",
              "2  listing exceptional even better experience per...  0.598485  positive\n",
              "3  alexandras home amazing neat neighbourhood eve...  0.371429   neutral\n",
              "4  beautiful home comfortable clean perfect famil...  0.486296   neutral"
            ],
            "text/html": [
              "\n",
              "  <div id=\"df-1da15cc0-d056-485f-b628-ac0757cffdb4\" class=\"colab-df-container\">\n",
              "    <div>\n",
              "<style scoped>\n",
              "    .dataframe tbody tr th:only-of-type {\n",
              "        vertical-align: middle;\n",
              "    }\n",
              "\n",
              "    .dataframe tbody tr th {\n",
              "        vertical-align: top;\n",
              "    }\n",
              "\n",
              "    .dataframe thead th {\n",
              "        text-align: right;\n",
              "    }\n",
              "</style>\n",
              "<table border=\"1\" class=\"dataframe\">\n",
              "  <thead>\n",
              "    <tr style=\"text-align: right;\">\n",
              "      <th></th>\n",
              "      <th>cleaned_comments</th>\n",
              "      <th>polarity</th>\n",
              "      <th>sentiment</th>\n",
              "    </tr>\n",
              "  </thead>\n",
              "  <tbody>\n",
              "    <tr>\n",
              "      <th>0</th>\n",
              "      <td>opportunity arriving alexandras house describe...</td>\n",
              "      <td>0.486905</td>\n",
              "      <td>neutral</td>\n",
              "    </tr>\n",
              "    <tr>\n",
              "      <th>1</th>\n",
              "      <td>enough words describe beautyful cozy alexandra...</td>\n",
              "      <td>0.166667</td>\n",
              "      <td>neutral</td>\n",
              "    </tr>\n",
              "    <tr>\n",
              "      <th>2</th>\n",
              "      <td>listing exceptional even better experience per...</td>\n",
              "      <td>0.598485</td>\n",
              "      <td>positive</td>\n",
              "    </tr>\n",
              "    <tr>\n",
              "      <th>3</th>\n",
              "      <td>alexandras home amazing neat neighbourhood eve...</td>\n",
              "      <td>0.371429</td>\n",
              "      <td>neutral</td>\n",
              "    </tr>\n",
              "    <tr>\n",
              "      <th>4</th>\n",
              "      <td>beautiful home comfortable clean perfect famil...</td>\n",
              "      <td>0.486296</td>\n",
              "      <td>neutral</td>\n",
              "    </tr>\n",
              "  </tbody>\n",
              "</table>\n",
              "</div>\n",
              "    <div class=\"colab-df-buttons\">\n",
              "\n",
              "  <div class=\"colab-df-container\">\n",
              "    <button class=\"colab-df-convert\" onclick=\"convertToInteractive('df-1da15cc0-d056-485f-b628-ac0757cffdb4')\"\n",
              "            title=\"Convert this dataframe to an interactive table.\"\n",
              "            style=\"display:none;\">\n",
              "\n",
              "  <svg xmlns=\"http://www.w3.org/2000/svg\" height=\"24px\" viewBox=\"0 -960 960 960\">\n",
              "    <path d=\"M120-120v-720h720v720H120Zm60-500h600v-160H180v160Zm220 220h160v-160H400v160Zm0 220h160v-160H400v160ZM180-400h160v-160H180v160Zm440 0h160v-160H620v160ZM180-180h160v-160H180v160Zm440 0h160v-160H620v160Z\"/>\n",
              "  </svg>\n",
              "    </button>\n",
              "\n",
              "  <style>\n",
              "    .colab-df-container {\n",
              "      display:flex;\n",
              "      gap: 12px;\n",
              "    }\n",
              "\n",
              "    .colab-df-convert {\n",
              "      background-color: #E8F0FE;\n",
              "      border: none;\n",
              "      border-radius: 50%;\n",
              "      cursor: pointer;\n",
              "      display: none;\n",
              "      fill: #1967D2;\n",
              "      height: 32px;\n",
              "      padding: 0 0 0 0;\n",
              "      width: 32px;\n",
              "    }\n",
              "\n",
              "    .colab-df-convert:hover {\n",
              "      background-color: #E2EBFA;\n",
              "      box-shadow: 0px 1px 2px rgba(60, 64, 67, 0.3), 0px 1px 3px 1px rgba(60, 64, 67, 0.15);\n",
              "      fill: #174EA6;\n",
              "    }\n",
              "\n",
              "    .colab-df-buttons div {\n",
              "      margin-bottom: 4px;\n",
              "    }\n",
              "\n",
              "    [theme=dark] .colab-df-convert {\n",
              "      background-color: #3B4455;\n",
              "      fill: #D2E3FC;\n",
              "    }\n",
              "\n",
              "    [theme=dark] .colab-df-convert:hover {\n",
              "      background-color: #434B5C;\n",
              "      box-shadow: 0px 1px 3px 1px rgba(0, 0, 0, 0.15);\n",
              "      filter: drop-shadow(0px 1px 2px rgba(0, 0, 0, 0.3));\n",
              "      fill: #FFFFFF;\n",
              "    }\n",
              "  </style>\n",
              "\n",
              "    <script>\n",
              "      const buttonEl =\n",
              "        document.querySelector('#df-1da15cc0-d056-485f-b628-ac0757cffdb4 button.colab-df-convert');\n",
              "      buttonEl.style.display =\n",
              "        google.colab.kernel.accessAllowed ? 'block' : 'none';\n",
              "\n",
              "      async function convertToInteractive(key) {\n",
              "        const element = document.querySelector('#df-1da15cc0-d056-485f-b628-ac0757cffdb4');\n",
              "        const dataTable =\n",
              "          await google.colab.kernel.invokeFunction('convertToInteractive',\n",
              "                                                    [key], {});\n",
              "        if (!dataTable) return;\n",
              "\n",
              "        const docLinkHtml = 'Like what you see? Visit the ' +\n",
              "          '<a target=\"_blank\" href=https://colab.research.google.com/notebooks/data_table.ipynb>data table notebook</a>'\n",
              "          + ' to learn more about interactive tables.';\n",
              "        element.innerHTML = '';\n",
              "        dataTable['output_type'] = 'display_data';\n",
              "        await google.colab.output.renderOutput(dataTable, element);\n",
              "        const docLink = document.createElement('div');\n",
              "        docLink.innerHTML = docLinkHtml;\n",
              "        element.appendChild(docLink);\n",
              "      }\n",
              "    </script>\n",
              "  </div>\n",
              "\n",
              "\n",
              "<div id=\"df-ed193fca-0db7-446f-b2ba-ef0957ddc29b\">\n",
              "  <button class=\"colab-df-quickchart\" onclick=\"quickchart('df-ed193fca-0db7-446f-b2ba-ef0957ddc29b')\"\n",
              "            title=\"Suggest charts\"\n",
              "            style=\"display:none;\">\n",
              "\n",
              "<svg xmlns=\"http://www.w3.org/2000/svg\" height=\"24px\"viewBox=\"0 0 24 24\"\n",
              "     width=\"24px\">\n",
              "    <g>\n",
              "        <path d=\"M19 3H5c-1.1 0-2 .9-2 2v14c0 1.1.9 2 2 2h14c1.1 0 2-.9 2-2V5c0-1.1-.9-2-2-2zM9 17H7v-7h2v7zm4 0h-2V7h2v10zm4 0h-2v-4h2v4z\"/>\n",
              "    </g>\n",
              "</svg>\n",
              "  </button>\n",
              "\n",
              "<style>\n",
              "  .colab-df-quickchart {\n",
              "      --bg-color: #E8F0FE;\n",
              "      --fill-color: #1967D2;\n",
              "      --hover-bg-color: #E2EBFA;\n",
              "      --hover-fill-color: #174EA6;\n",
              "      --disabled-fill-color: #AAA;\n",
              "      --disabled-bg-color: #DDD;\n",
              "  }\n",
              "\n",
              "  [theme=dark] .colab-df-quickchart {\n",
              "      --bg-color: #3B4455;\n",
              "      --fill-color: #D2E3FC;\n",
              "      --hover-bg-color: #434B5C;\n",
              "      --hover-fill-color: #FFFFFF;\n",
              "      --disabled-bg-color: #3B4455;\n",
              "      --disabled-fill-color: #666;\n",
              "  }\n",
              "\n",
              "  .colab-df-quickchart {\n",
              "    background-color: var(--bg-color);\n",
              "    border: none;\n",
              "    border-radius: 50%;\n",
              "    cursor: pointer;\n",
              "    display: none;\n",
              "    fill: var(--fill-color);\n",
              "    height: 32px;\n",
              "    padding: 0;\n",
              "    width: 32px;\n",
              "  }\n",
              "\n",
              "  .colab-df-quickchart:hover {\n",
              "    background-color: var(--hover-bg-color);\n",
              "    box-shadow: 0 1px 2px rgba(60, 64, 67, 0.3), 0 1px 3px 1px rgba(60, 64, 67, 0.15);\n",
              "    fill: var(--button-hover-fill-color);\n",
              "  }\n",
              "\n",
              "  .colab-df-quickchart-complete:disabled,\n",
              "  .colab-df-quickchart-complete:disabled:hover {\n",
              "    background-color: var(--disabled-bg-color);\n",
              "    fill: var(--disabled-fill-color);\n",
              "    box-shadow: none;\n",
              "  }\n",
              "\n",
              "  .colab-df-spinner {\n",
              "    border: 2px solid var(--fill-color);\n",
              "    border-color: transparent;\n",
              "    border-bottom-color: var(--fill-color);\n",
              "    animation:\n",
              "      spin 1s steps(1) infinite;\n",
              "  }\n",
              "\n",
              "  @keyframes spin {\n",
              "    0% {\n",
              "      border-color: transparent;\n",
              "      border-bottom-color: var(--fill-color);\n",
              "      border-left-color: var(--fill-color);\n",
              "    }\n",
              "    20% {\n",
              "      border-color: transparent;\n",
              "      border-left-color: var(--fill-color);\n",
              "      border-top-color: var(--fill-color);\n",
              "    }\n",
              "    30% {\n",
              "      border-color: transparent;\n",
              "      border-left-color: var(--fill-color);\n",
              "      border-top-color: var(--fill-color);\n",
              "      border-right-color: var(--fill-color);\n",
              "    }\n",
              "    40% {\n",
              "      border-color: transparent;\n",
              "      border-right-color: var(--fill-color);\n",
              "      border-top-color: var(--fill-color);\n",
              "    }\n",
              "    60% {\n",
              "      border-color: transparent;\n",
              "      border-right-color: var(--fill-color);\n",
              "    }\n",
              "    80% {\n",
              "      border-color: transparent;\n",
              "      border-right-color: var(--fill-color);\n",
              "      border-bottom-color: var(--fill-color);\n",
              "    }\n",
              "    90% {\n",
              "      border-color: transparent;\n",
              "      border-bottom-color: var(--fill-color);\n",
              "    }\n",
              "  }\n",
              "</style>\n",
              "\n",
              "  <script>\n",
              "    async function quickchart(key) {\n",
              "      const quickchartButtonEl =\n",
              "        document.querySelector('#' + key + ' button');\n",
              "      quickchartButtonEl.disabled = true;  // To prevent multiple clicks.\n",
              "      quickchartButtonEl.classList.add('colab-df-spinner');\n",
              "      try {\n",
              "        const charts = await google.colab.kernel.invokeFunction(\n",
              "            'suggestCharts', [key], {});\n",
              "      } catch (error) {\n",
              "        console.error('Error during call to suggestCharts:', error);\n",
              "      }\n",
              "      quickchartButtonEl.classList.remove('colab-df-spinner');\n",
              "      quickchartButtonEl.classList.add('colab-df-quickchart-complete');\n",
              "    }\n",
              "    (() => {\n",
              "      let quickchartButtonEl =\n",
              "        document.querySelector('#df-ed193fca-0db7-446f-b2ba-ef0957ddc29b button');\n",
              "      quickchartButtonEl.style.display =\n",
              "        google.colab.kernel.accessAllowed ? 'block' : 'none';\n",
              "    })();\n",
              "  </script>\n",
              "</div>\n",
              "    </div>\n",
              "  </div>\n"
            ],
            "application/vnd.google.colaboratory.intrinsic+json": {
              "type": "dataframe",
              "summary": "{\n  \"name\": \"english_reviews[['cleaned_comments', 'polarity', 'sentiment']]\",\n  \"rows\": 5,\n  \"fields\": [\n    {\n      \"column\": \"cleaned_comments\",\n      \"properties\": {\n        \"dtype\": \"string\",\n        \"num_unique_values\": 5,\n        \"samples\": [\n          \"enough words describe beautyful cozy alexandras house every detail tasteful functional kids stunned theyve seen toys room tree house brwe loved home thank\",\n          \"beautiful home comfortable clean perfect family families traveling together close amazing restaurents bralexandra gave us \\u00e0 complete list sorts useful information including nice running routes sporti ones brhighly highly recommend housebrkate\",\n          \"listing exceptional even better experience person house beautiful accommodating group anything could needed available experience working alexandra wonderful neighborhood easy get around theres ton great restaurants coffee shops stores within walking distance definitely one nicest houses ive ever chance stay anyone would lucky get experience great home great city\"\n        ],\n        \"semantic_type\": \"\",\n        \"description\": \"\"\n      }\n    },\n    {\n      \"column\": \"polarity\",\n      \"properties\": {\n        \"dtype\": \"number\",\n        \"std\": 0.1637422627938491,\n        \"min\": 0.16666666666666666,\n        \"max\": 0.5984848484848484,\n        \"num_unique_values\": 5,\n        \"samples\": [\n          0.16666666666666666,\n          0.48629629629629634,\n          0.5984848484848484\n        ],\n        \"semantic_type\": \"\",\n        \"description\": \"\"\n      }\n    },\n    {\n      \"column\": \"sentiment\",\n      \"properties\": {\n        \"dtype\": \"category\",\n        \"num_unique_values\": 2,\n        \"samples\": [\n          \"positive\",\n          \"neutral\"\n        ],\n        \"semantic_type\": \"\",\n        \"description\": \"\"\n      }\n    }\n  ]\n}"
            }
          },
          "metadata": {},
          "execution_count": 23
        }
      ]
    },
    {
      "cell_type": "markdown",
      "source": [
        "Now lets check the distribution of sentiments among the english reviews"
      ],
      "metadata": {
        "id": "X9aYoP97dhsy"
      }
    },
    {
      "cell_type": "code",
      "source": [
        "# Plotting the distribution of sentiments\n",
        "sns.countplot(x='sentiment', data=english_reviews, palette='coolwarm')\n",
        "plt.title('Distribution of English Review Sentiments')\n",
        "plt.xlabel('Sentiment')\n",
        "plt.ylabel('Number of Reviews')\n",
        "plt.show()"
      ],
      "metadata": {
        "colab": {
          "base_uri": "https://localhost:8080/",
          "height": 579
        },
        "id": "1Q_pG9tZdkf9",
        "outputId": "5270c288-a8b2-423e-86c0-9cd9486c5692"
      },
      "execution_count": null,
      "outputs": [
        {
          "output_type": "stream",
          "name": "stderr",
          "text": [
            "<ipython-input-24-3a2d596a70f0>:5: FutureWarning: \n",
            "\n",
            "Passing `palette` without assigning `hue` is deprecated and will be removed in v0.14.0. Assign the `x` variable to `hue` and set `legend=False` for the same effect.\n",
            "\n",
            "  sns.countplot(x='sentiment', data=english_reviews, palette='coolwarm')\n"
          ]
        },
        {
          "output_type": "display_data",
          "data": {
            "text/plain": [
              "<Figure size 640x480 with 1 Axes>"
            ],
            "image/png": "[encoded data removed]"
          },
          "metadata": {}
        }
      ]
    },
    {
      "cell_type": "markdown",
      "source": [
        "Now, lets extract the top words from positive and negative reviews"
      ],
      "metadata": {
        "id": "zbLui3iJeJfZ"
      }
    },
    {
      "cell_type": "code",
      "source": [
        "positive_reviews = english_reviews[english_reviews['sentiment'] == 'positive']['cleaned_comments']\n",
        "negative_reviews = english_reviews[english_reviews['sentiment'] == 'negative']['cleaned_comments']\n"
      ],
      "metadata": {
        "id": "EuZ6l1RvesZw"
      },
      "execution_count": null,
      "outputs": []
    },
    {
      "cell_type": "code",
      "source": [
        "top_positive_words = get_top_words(positive_reviews)\n",
        "top_negative_words = get_top_words(negative_reviews)\n",
        "\n",
        "# Display the top words for each sentiment\n",
        "print(\"Top positive words:\", top_positive_words)\n",
        "print(\"Top negative words:\", top_negative_words)"
      ],
      "metadata": {
        "colab": {
          "base_uri": "https://localhost:8080/"
        },
        "id": "7CfP1ztweII1",
        "outputId": "774cafcf-29a7-4139-8626-3ee18b53d42a"
      },
      "execution_count": null,
      "outputs": [
        {
          "output_type": "stream",
          "name": "stdout",
          "text": [
            "Top positive words: [('great', 125028), ('place', 77671), ('stay', 63696), ('location', 62235), ('host', 43526), ('clean', 32899), ('nice', 27217), ('perfect', 26959), ('good', 22053), ('toronto', 20409), ('recommend', 18818), ('amazing', 18358), ('beautiful', 17695), ('apartment', 16830), ('wonderful', 15345), ('close', 14037), ('easy', 13971), ('excellent', 13771), ('comfortable', 13446), ('view', 12099)]\n",
            "Top negative words: [('place', 71), ('bad', 60), ('stay', 31), ('dirty', 31), ('terrible', 29), ('worst', 28), ('disappointed', 26), ('room', 24), ('experience', 24), ('host', 21), ('airbnb', 15), ('recommend', 15), ('bed', 14), ('location', 13), ('disgusting', 13), ('like', 12), ('cold', 12), ('house', 11), ('time', 10), ('apartment', 10)]\n"
          ]
        }
      ]
    },
    {
      "cell_type": "code",
      "source": [
        "# Plot top words for English positive reviews\n",
        "plot_top_words(top_positive_words, 'Top Words in English Positive Reviews')\n",
        "\n",
        "# Plot top words for English negative reviews\n",
        "plot_top_words(top_negative_words, 'Top Words in English Negative Reviews')\n"
      ],
      "metadata": {
        "colab": {
          "base_uri": "https://localhost:8080/",
          "height": 1000
        },
        "id": "Ou2RxPwAfQjd",
        "outputId": "b0bac4dd-98b9-4a28-8df3-9d425c39e0fe"
      },
      "execution_count": null,
      "outputs": [
        {
          "output_type": "stream",
          "name": "stderr",
          "text": [
            "<ipython-input-12-1f283fa06d4a>:7: FutureWarning: \n",
            "\n",
            "Passing `palette` without assigning `hue` is deprecated and will be removed in v0.14.0. Assign the `y` variable to `hue` and set `legend=False` for the same effect.\n",
            "\n",
            "  sns.barplot(x=counts, y=words, palette='viridis')\n"
          ]
        },
        {
          "output_type": "display_data",
          "data": {
            "text/plain": [
              "<Figure size 640x480 with 1 Axes>"
            ],
            "image/png": "[encoded data removed]"
          },
          "metadata": {}
        },
        {
          "output_type": "stream",
          "name": "stderr",
          "text": [
            "<ipython-input-12-1f283fa06d4a>:7: FutureWarning: \n",
            "\n",
            "Passing `palette` without assigning `hue` is deprecated and will be removed in v0.14.0. Assign the `y` variable to `hue` and set `legend=False` for the same effect.\n",
            "\n",
            "  sns.barplot(x=counts, y=words, palette='viridis')\n"
          ]
        },
        {
          "output_type": "display_data",
          "data": {
            "text/plain": [
              "<Figure size 640x480 with 1 Axes>"
            ],
            "image/png": "[encoded data removed]"
          },
          "metadata": {}
        }
      ]
    },
    {
      "cell_type": "markdown",
      "source": [
        "Lets now build a machine learning model"
      ],
      "metadata": {
        "id": "dEQGkaZw2CIU"
      }
    },
    {
      "cell_type": "code",
      "source": [
        "import numpy as np\n",
        "from sklearn.feature_extraction.text import TfidfVectorizer\n",
        "from sklearn.model_selection import train_test_split\n",
        "from sklearn.linear_model import LogisticRegression\n",
        "from sklearn.metrics import classification_report, accuracy_score"
      ],
      "metadata": {
        "id": "ktw9OOj32Evc"
      },
      "execution_count": null,
      "outputs": []
    },
    {
      "cell_type": "markdown",
      "source": [
        "We will convert the categorical polarity scores (positive, neutral, negative) into numerical label versions"
      ],
      "metadata": {
        "id": "4aHR6Ejo23ZI"
      }
    },
    {
      "cell_type": "code",
      "source": [
        "sentiment_mapping={'positive': 1, 'neutral': 0, 'negative': -1}\n",
        "english_reviews['sentiment_label'] = english_reviews['sentiment'].map(sentiment_mapping)"
      ],
      "metadata": {
        "id": "_vy1Rj0x2_z4"
      },
      "execution_count": null,
      "outputs": []
    },
    {
      "cell_type": "markdown",
      "source": [
        "Lets prepare the dataset for modeling"
      ],
      "metadata": {
        "id": "EdbzcJWd3izZ"
      }
    },
    {
      "cell_type": "code",
      "source": [
        "X = english_reviews['comments'].fillna('')\n",
        "y = english_reviews['sentiment_label'].values\n",
        "\n",
        "# Split the data into training and testing sets\n",
        "X_train, X_test, y_train, y_test = train_test_split(X, y, test_size=0.3, random_state=42)\n",
        "\n",
        "# Check the first few entries of X-train and y_train\n",
        "print(\"First few entries in X_train: \\n\", X_train.head())\n",
        "print(\"\\n First few labels in y_train: \\n\", y_train[:5])"
      ],
      "metadata": {
        "colab": {
          "base_uri": "https://localhost:8080/"
        },
        "id": "bfN-C1wS3kLY",
        "outputId": "638d5aca-5eaa-4d59-c2d3-85b2e8cc03fd"
      },
      "execution_count": null,
      "outputs": [
        {
          "output_type": "stream",
          "name": "stdout",
          "text": [
            "First few entries in X_train: \n",
            " 204946    Ed  is a great host. His place is very cozy an...\n",
            "128153        훌륭한 장소. CN tower와 Ontario lake를 직접 볼 수 있는 42층\n",
            "348780       Great little spot! We really enjoyed our stay!\n",
            "258115                                         Great place!\n",
            "510011    Great place for an extended family to stay.  T...\n",
            "Name: comments, dtype: object\n",
            "\n",
            " First few labels in y_train: \n",
            " [0 0 0 1 1]\n"
          ]
        }
      ]
    },
    {
      "cell_type": "markdown",
      "source": [
        "Now we vectorize the text. We apply TF-IDF vectorization to the training data and check the shape of the resulting matrix\n"
      ],
      "metadata": {
        "id": "R_-Tm9v245bj"
      }
    },
    {
      "cell_type": "code",
      "source": [
        "\n",
        "# Initialize and fit the TF-IDF vectorizer\n",
        "tfidf = TfidfVectorizer(stop_words='english', max_features=5000)\n",
        "X_train_tfidf = tfidf.fit_transform(X_train)\n",
        "X_test_tfidf = tfidf.transform(X_test)\n",
        "\n",
        "#output the shape of the resulting TF-IDF matrices\n",
        "print(\"Shape of X-train_tfidf: \", X_train_tfidf.shape)\n",
        "print(\"Shape of X_test_tfidf: \", X_test_tfidf.shape)"
      ],
      "metadata": {
        "colab": {
          "base_uri": "https://localhost:8080/"
        },
        "id": "8CmdplEw42Gh",
        "outputId": "c08498ed-d774-4519-99c0-b993e7f8142f"
      },
      "execution_count": null,
      "outputs": [
        {
          "output_type": "stream",
          "name": "stdout",
          "text": [
            "Shape of X-train_tfidf:  (322061, 5000)\n",
            "Shape of X_test_tfidf:  (138027, 5000)\n"
          ]
        }
      ]
    },
    {
      "cell_type": "markdown",
      "source": [
        "Now lets train the model. We will train the logistic regression model and output the first few predictions to understand the model's initial behavior"
      ],
      "metadata": {
        "id": "r2tNwBBh-sdD"
      }
    },
    {
      "cell_type": "code",
      "source": [
        "# Initialize and train the Logistic Regression model\n",
        "model = LogisticRegression(max_iter=1000)\n",
        "model.fit(X_train_tfidf, y_train)\n",
        "\n"
      ],
      "metadata": {
        "colab": {
          "base_uri": "https://localhost:8080/"
        },
        "id": "pk5MtYWy-u19",
        "outputId": "37ad174e-4b12-4e10-fbb5-2fb31c58b31d"
      },
      "execution_count": null,
      "outputs": [
        {
          "output_type": "stream",
          "name": "stdout",
          "text": [
            "Sample predictions:  [0 0 1 0 0]\n"
          ]
        }
      ]
    },
    {
      "cell_type": "code",
      "source": [
        "# Assume you are interested in the first five entries for simplicity\n",
        "# These correspond to the first five rows of the TF-IDF transformed matrix directly after the split\n",
        "sample_predictions = model.predict(X_test_tfidf[:5])  # Direct positional indexing\n",
        "\n",
        "# Now, extract the actual sentiments and texts correctly\n",
        "# The actual sentiments should align with how you've extracted your sample text\n",
        "sample_texts = X_test.head(5).tolist()  # Convert the first five test samples to a list for easy viewing\n",
        "sample_actuals = y_test[:5]  # Actual sentiments for the first five test samples, assuming y_test is correctly ordered\n",
        "\n",
        "# Print out the review texts, predicted sentiments, and actual sentiments\n",
        "for text, prediction, actual in zip(sample_texts, sample_predictions, sample_actuals):\n",
        "    print(f\"Review: {text}\")\n",
        "    print(f\"Predicted sentiment: {'positive' if prediction == 1 else 'negative' if prediction == -1 else 'neutral'}\")\n",
        "    print(f\"Actual sentiment: {'positive' if actual == 1 else 'negative' if actual == -1 else 'neutral'}\\n\")\n"
      ],
      "metadata": {
        "colab": {
          "base_uri": "https://localhost:8080/"
        },
        "id": "EI7ebcyyAqUF",
        "outputId": "e1450cbb-244e-40e8-eb17-a58be086a505"
      },
      "execution_count": null,
      "outputs": [
        {
          "output_type": "stream",
          "name": "stdout",
          "text": [
            "Review: Liliana and Laurie made checking in and out of the place very convenient.\n",
            "Predicted sentiment: neutral\n",
            "Actual sentiment: neutral\n",
            "\n",
            "Review: The location is in the heart of Yorkville and the view from the apartment is beautiful. They stated they have a sofa bed in the description, but there wasn’t one available. The place was way too tight and they had a lot of extra unnecessary furniture. We checked in with 3 guys but the place is only good for 1 person (unless you’re sharing a bed, then it’s good for 2). The shower is super small and splashes water everywhere. The sofa had stains all over it, and the place wasn’t properly cleaned. They didn’t have extra blankets, pillows, etc… There was still things in the washer when we arrived. When we wanted to check out, we had to drop off the key at a different location, but they made us walk all the way back to the apartment and drop it off there. I personally wouldn’t recommend this place.\n",
            "Predicted sentiment: neutral\n",
            "Actual sentiment: neutral\n",
            "\n",
            "Review: Good accomodation and access to everything. Host very helpful <br/>Recommend this apartment.\n",
            "Predicted sentiment: positive\n",
            "Actual sentiment: positive\n",
            "\n",
            "Review: It was a great stay. Small but big enough for me and my adult daughter. It is a few minutes drive from Union station. Nora is an amazing host. Very responsive and a pleasure to work with.\n",
            "Predicted sentiment: neutral\n",
            "Actual sentiment: neutral\n",
            "\n",
            "Review: Good place. Have some issues which Ashley is working on getting resolved.\n",
            "Predicted sentiment: neutral\n",
            "Actual sentiment: positive\n",
            "\n"
          ]
        }
      ]
    },
    {
      "cell_type": "markdown",
      "source": [
        "Now we evaluate the model. We use the whole test set. We'll print out the accuracy and the classification report."
      ],
      "metadata": {
        "id": "8E3W4bPS8Q2O"
      }
    },
    {
      "cell_type": "code",
      "source": [
        "# Make predictions on the test set\n",
        "y_pred = model.predict(X_test_tfidf)\n",
        "\n",
        "# Print accuracy\n",
        "print(\"Accuracy:\", accuracy_score(y_test, y_pred))\n",
        "\n",
        "# determine which labels are present\n",
        "unique_labels= np.unique(np.concatenate((y_test, y_pred)))\n",
        "print(\"Unique labels in combined actual and predicted: \", unique_labels)\n",
        "\n",
        "# print the classification report based on the labels present\n",
        "actual_target_names = ['negative', 'neutral', 'positive']\n",
        "print(\"\\nClassification Report:\")\n",
        "print(classification_report(y_test, y_pred, target_names=actual_target_names, labels=unique_labels))\n"
      ],
      "metadata": {
        "colab": {
          "base_uri": "https://localhost:8080/",
          "height": 211
        },
        "id": "HkLVc0wk8LOm",
        "outputId": "36278408-fbf6-444e-b306-fe414ca9b212"
      },
      "execution_count": null,
      "outputs": [
        {
          "output_type": "error",
          "ename": "NameError",
          "evalue": "name 'model' is not defined",
          "traceback": [
            "\u001b[0;31m---------------------------------------------------------------------------\u001b[0m",
            "\u001b[0;31mNameError\u001b[0m                                 Traceback (most recent call last)",
            "\u001b[0;32m<ipython-input-1-47dc39e8a369>\u001b[0m in \u001b[0;36m<cell line: 2>\u001b[0;34m()\u001b[0m\n\u001b[1;32m      1\u001b[0m \u001b[0;31m# Make predictions on the test set\u001b[0m\u001b[0;34m\u001b[0m\u001b[0;34m\u001b[0m\u001b[0m\n\u001b[0;32m----> 2\u001b[0;31m \u001b[0my_pred\u001b[0m \u001b[0;34m=\u001b[0m \u001b[0mmodel\u001b[0m\u001b[0;34m.\u001b[0m\u001b[0mpredict\u001b[0m\u001b[0;34m(\u001b[0m\u001b[0mX_test_tfidf\u001b[0m\u001b[0;34m)\u001b[0m\u001b[0;34m\u001b[0m\u001b[0;34m\u001b[0m\u001b[0m\n\u001b[0m\u001b[1;32m      3\u001b[0m \u001b[0;34m\u001b[0m\u001b[0m\n\u001b[1;32m      4\u001b[0m \u001b[0;31m# Print accuracy\u001b[0m\u001b[0;34m\u001b[0m\u001b[0;34m\u001b[0m\u001b[0m\n\u001b[1;32m      5\u001b[0m \u001b[0mprint\u001b[0m\u001b[0;34m(\u001b[0m\u001b[0;34m\"Accuracy:\"\u001b[0m\u001b[0;34m,\u001b[0m \u001b[0maccuracy_score\u001b[0m\u001b[0;34m(\u001b[0m\u001b[0my_test\u001b[0m\u001b[0;34m,\u001b[0m \u001b[0my_pred\u001b[0m\u001b[0;34m)\u001b[0m\u001b[0;34m)\u001b[0m\u001b[0;34m\u001b[0m\u001b[0;34m\u001b[0m\u001b[0m\n",
            "\u001b[0;31mNameError\u001b[0m: name 'model' is not defined"
          ]
        }
      ]
    }
  ]
}